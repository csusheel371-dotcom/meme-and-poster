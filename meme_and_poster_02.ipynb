{
  "nbformat": 4,
  "nbformat_minor": 0,
  "metadata": {
    "colab": {
      "provenance": []
    },
    "kernelspec": {
      "name": "python3",
      "display_name": "Python 3"
    },
    "language_info": {
      "name": "python"
    }
  },
  "cells": [
    {
      "cell_type": "code",
      "source": [
        "# Install Google GenAI SDK, Pillow, Gradio, and requests with compatible versions\n",
        "!pip install -q requests==2.32.4 google-genai==1.40.0 pillow gradio\n"
      ],
      "metadata": {
        "id": "DJeKIyUb6NP4"
      },
      "execution_count": null,
      "outputs": []
    },
    {
      "cell_type": "code",
      "source": [
        "from getpass import getpass\n",
        "import os\n",
        "\n",
        "# Securely input your Gemini API key (will not show in notebook)\n",
        "api_key = getpass(\"Paste your Gemini API key (won't show): \")\n",
        "\n",
        "if api_key:\n",
        "    os.environ[\"GEMINI_API_KEY\"] = api_key\n",
        "\n",
        "# Import the Gemini client\n",
        "from google import genai\n",
        "client = genai.Client(api_key=os.getenv(\"GEMINI_API_KEY\"))\n",
        "\n",
        "print(\"Gemini client created successfully!\")\n"
      ],
      "metadata": {
        "id": "BpFrZxMy6acU"
      },
      "execution_count": null,
      "outputs": []
    },
    {
      "cell_type": "code",
      "source": [
        "import re\n",
        "\n",
        "try:\n",
        "    prompt = \"\"\"You are a caption generator for student event posters and memes.\n",
        "Generate 4 short, punchy social-media captions (one per line) for:\n",
        "college fest, music, food, friends.\n",
        "Keep each caption 1-2 short lines.\"\"\"\n",
        "\n",
        "    resp = client.models.generate_content(\n",
        "        model=\"gemini-1.5-flash\",\n",
        "        contents=prompt\n",
        "    )\n",
        "\n",
        "    text = resp.text or \"\"\n",
        "    print(\"Raw response:\\n\", text)\n",
        "\n",
        "    # Parse numbered/bulleted captions\n",
        "    captions = [re.sub(r'^[\\-\\d\\.\\)\\s]+', '', ln).strip() for ln in text.splitlines() if ln.strip()]\n",
        "    if len(captions) < 1:\n",
        "        # fallback if returned as paragraph\n",
        "        captions = [p.strip() for p in re.split(r'[。\\n.!?]+', text) if p.strip()][:4]\n",
        "\n",
        "    print(\"\\nParsed captions:\", captions)\n",
        "\n",
        "except Exception as e:\n",
        "    print(\"Error calling Gemini API:\", type(e).__name__, str(e))\n"
      ],
      "metadata": {
        "id": "NS72b-AW6qtQ"
      },
      "execution_count": null,
      "outputs": []
    },
    {
      "cell_type": "code",
      "source": [
        "# Download fonts for memes and posters\n",
        "!wget -q -O /content/Bangers-Regular.ttf https://github.com/google/fonts/raw/main/ofl/bangers/Bangers-Regular.ttf\n",
        "!wget -q -O /content/Montserrat-SemiBold.ttf https://github.com/google/fonts/raw/main/ofl/montserrat/Montserrat-SemiBold.ttf\n",
        "\n",
        "from PIL import Image, ImageDraw, ImageFont\n",
        "import textwrap, requests, io\n",
        "\n",
        "FONT_BANGERS = \"/content/Bangers-Regular.ttf\"\n",
        "FONT_MONTSERRAT = \"/content/Montserrat-SemiBold.ttf\"\n",
        "\n",
        "print(\"Fonts downloaded successfully!\")\n"
      ],
      "metadata": {
        "id": "Ts39Ti0c7Dgb"
      },
      "execution_count": null,
      "outputs": []
    },
    {
      "cell_type": "code",
      "source": [
        "def draw_text_on_image(img, text, font_path=FONT_BANGERS, position='bottom', padding=40):\n",
        "    img = img.convert(\"RGBA\")\n",
        "    W, H = img.size\n",
        "    draw = ImageDraw.Draw(img)\n",
        "\n",
        "    font_size = max(18, int(W / 15))\n",
        "    font = ImageFont.truetype(font_path, font_size)\n",
        "\n",
        "    avg_char_w = sum(font.getsize(c)[0] for c in \"abcdefghijklmnopqrstuvwxyz\") / 26.0\n",
        "    max_chars = max(10, int((W * 0.9) / max(1, avg_char_w)))\n",
        "    wrapped = textwrap.fill(text, width=max_chars)\n",
        "\n",
        "    tw, th = draw.multiline_textsize(wrapped, font=font)\n",
        "    x = (W - tw) / 2\n",
        "    y = (H - th - padding) if position == 'bottom' else padding\n",
        "\n",
        "    stroke = max(2, int(font_size * 0.06))\n",
        "    for dx in range(-stroke, stroke+1):\n",
        "        for dy in range(-stroke, stroke+1):\n",
        "            if dx == 0 and dy == 0: continue\n",
        "            draw.multiline_text((x+dx, y+dy), wrapped, font=font, fill=(0,0,0,200), align='center')\n",
        "\n",
        "    draw.multiline_text((x, y), wrapped, font=font, fill=(255,255,255,255), align='center')\n",
        "    return img.convert(\"RGB\")\n"
      ],
      "metadata": {
        "id": "HYHjSsV17I6d"
      },
      "execution_count": null,
      "outputs": []
    },
    {
      "cell_type": "code",
      "source": [
        "def generate_captions_gemini(keywords, n=3, model=\"gemini-1.5-flash\"):\n",
        "    prompt = f\"Generate {n} short, punchy captions for: {keywords}. Keep 1-2 lines.\"\n",
        "    try:\n",
        "        resp = client.models.generate_content(model=model, contents=prompt)\n",
        "        text = resp.text or \"\"\n",
        "        lines = [re.sub(r'^[\\-\\d\\.\\)\\s]+', '', ln).strip() for ln in text.splitlines() if ln.strip()]\n",
        "        if len(lines) < n:\n",
        "            parts = [p.strip() for p in re.split(r'[。\\n.!?]+', text) if p.strip()]\n",
        "            for p in parts:\n",
        "                if p not in lines:\n",
        "                    lines.append(p)\n",
        "        return lines[:n]\n",
        "    except Exception as e:\n",
        "        print(\"Error generating captions:\", type(e).__name__, str(e))\n",
        "        return [keywords]\n"
      ],
      "metadata": {
        "id": "1gS8Wf3n7SpC"
      },
      "execution_count": null,
      "outputs": []
    },
    {
      "cell_type": "code",
      "source": [
        "def create_meme_from_image(pil_img, keywords, style='meme'):\n",
        "    captions = generate_captions_gemini(keywords, n=3)\n",
        "    chosen = captions[0] if captions else keywords\n",
        "    font = FONT_BANGERS if style == 'meme' else FONT_MONTSERRAT\n",
        "    pos = 'bottom' if style == 'meme' else 'top'\n",
        "    return draw_text_on_image(pil_img.copy(), chosen, font_path=font, position=pos), captions\n"
      ],
      "metadata": {
        "id": "yBn4SMBb7WBb"
      },
      "execution_count": null,
      "outputs": []
    },
    {
      "cell_type": "code",
      "source": [
        "from IPython.display import display\n",
        "\n",
        "resp = requests.get(\"https://picsum.photos/900/600\", stream=True)\n",
        "img = Image.open(resp.raw).convert(\"RGB\")\n",
        "\n",
        "result_img, caption_options = create_meme_from_image(img, \"college fest music food friends\", style='meme')\n",
        "print(\"Caption options:\", caption_options)\n",
        "display(result_img)\n"
      ],
      "metadata": {
        "id": "0rnsmrvD7YsM"
      },
      "execution_count": null,
      "outputs": []
    }
  ]
}